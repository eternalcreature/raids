{
 "cells": [
  {
   "cell_type": "code",
   "execution_count": 4,
   "id": "5dca5a57",
   "metadata": {},
   "outputs": [],
   "source": [
    "import pandas as pd\n",
    "\n",
    "df = pd.read_csv(\"raids_lia.csv\")\n",
    "\n",
    "cat_order = pd.CategoricalDtype(categories=['Open', 'Dead', 'Defeat', 'Unknown'], ordered=True)\n",
    "\n",
    "df = df.sort_values(by=['status', 'HPperspot'], ascending=[True, True])"
   ]
  },
  {
   "cell_type": "code",
   "execution_count": 5,
   "id": "f4bf432e",
   "metadata": {},
   "outputs": [
    {
     "data": {
      "text/html": [
       "<div>\n",
       "<style scoped>\n",
       "    .dataframe tbody tr th:only-of-type {\n",
       "        vertical-align: middle;\n",
       "    }\n",
       "\n",
       "    .dataframe tbody tr th {\n",
       "        vertical-align: top;\n",
       "    }\n",
       "\n",
       "    .dataframe thead th {\n",
       "        text-align: right;\n",
       "    }\n",
       "</style>\n",
       "<table border=\"1\" class=\"dataframe\">\n",
       "  <thead>\n",
       "    <tr style=\"text-align: right;\">\n",
       "      <th></th>\n",
       "      <th>link</th>\n",
       "      <th>status</th>\n",
       "      <th>host</th>\n",
       "      <th>participants</th>\n",
       "      <th>spots</th>\n",
       "      <th>HP</th>\n",
       "      <th>HPperspot</th>\n",
       "      <th>time</th>\n",
       "      <th>days</th>\n",
       "    </tr>\n",
       "  </thead>\n",
       "  <tbody>\n",
       "    <tr>\n",
       "      <th>0</th>\n",
       "      <td>https://www.kanoplay.com/la_cosa_nostra/boss/r...</td>\n",
       "      <td>Open</td>\n",
       "      <td>RED B U L L</td>\n",
       "      <td>8</td>\n",
       "      <td>22</td>\n",
       "      <td>409433839</td>\n",
       "      <td>1.861063e+07</td>\n",
       "      <td>275790</td>\n",
       "      <td>3:04:36:30</td>\n",
       "    </tr>\n",
       "    <tr>\n",
       "      <th>1</th>\n",
       "      <td>https://www.kanoplay.com/la_cosa_nostra/boss/r...</td>\n",
       "      <td>Open</td>\n",
       "      <td>THE P H 0 E N I X</td>\n",
       "      <td>8</td>\n",
       "      <td>22</td>\n",
       "      <td>411870421</td>\n",
       "      <td>1.872138e+07</td>\n",
       "      <td>275749</td>\n",
       "      <td>3:04:35:49</td>\n",
       "    </tr>\n",
       "    <tr>\n",
       "      <th>2</th>\n",
       "      <td>https://www.kanoplay.com/la_cosa_nostra/boss/r...</td>\n",
       "      <td>Open</td>\n",
       "      <td>Little Charlie</td>\n",
       "      <td>7</td>\n",
       "      <td>23</td>\n",
       "      <td>439685858</td>\n",
       "      <td>1.911678e+07</td>\n",
       "      <td>276118</td>\n",
       "      <td>3:04:41:58</td>\n",
       "    </tr>\n",
       "  </tbody>\n",
       "</table>\n",
       "</div>"
      ],
      "text/plain": [
       "                                                link status  \\\n",
       "0  https://www.kanoplay.com/la_cosa_nostra/boss/r...   Open   \n",
       "1  https://www.kanoplay.com/la_cosa_nostra/boss/r...   Open   \n",
       "2  https://www.kanoplay.com/la_cosa_nostra/boss/r...   Open   \n",
       "\n",
       "                host  participants  spots         HP     HPperspot    time  \\\n",
       "0        RED B U L L             8     22  409433839  1.861063e+07  275790   \n",
       "1  THE P H 0 E N I X             8     22  411870421  1.872138e+07  275749   \n",
       "2     Little Charlie             7     23  439685858  1.911678e+07  276118   \n",
       "\n",
       "         days  \n",
       "0  3:04:36:30  \n",
       "1  3:04:35:49  \n",
       "2  3:04:41:58  "
      ]
     },
     "execution_count": 5,
     "metadata": {},
     "output_type": "execute_result"
    }
   ],
   "source": [
    "df"
   ]
  },
  {
   "cell_type": "code",
   "execution_count": 3,
   "id": "baa9c705",
   "metadata": {},
   "outputs": [],
   "source": [
    "df = df.sort_values(by=['status', 'time'], ascending=[True, True])"
   ]
  },
  {
   "cell_type": "code",
   "execution_count": null,
   "id": "7ec16da8",
   "metadata": {},
   "outputs": [],
   "source": []
  }
 ],
 "metadata": {
  "kernelspec": {
   "display_name": "venv",
   "language": "python",
   "name": "python3"
  },
  "language_info": {
   "codemirror_mode": {
    "name": "ipython",
    "version": 3
   },
   "file_extension": ".py",
   "mimetype": "text/x-python",
   "name": "python",
   "nbconvert_exporter": "python",
   "pygments_lexer": "ipython3",
   "version": "3.12.4"
  }
 },
 "nbformat": 4,
 "nbformat_minor": 5
}
